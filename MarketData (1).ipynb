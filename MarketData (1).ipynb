{
  "nbformat": 4,
  "nbformat_minor": 0,
  "metadata": {
    "colab": {
      "provenance": []
    },
    "kernelspec": {
      "name": "python3",
      "display_name": "Python 3"
    },
    "language_info": {
      "name": "python"
    }
  },
  "cells": [
    {
      "cell_type": "code",
      "source": [
        "# !pip install azure-storage-blob"
      ],
      "metadata": {
        "colab": {
          "base_uri": "https://localhost:8080/"
        },
        "collapsed": true,
        "id": "xIfI-wnJP05N",
        "outputId": "99ba2dab-1402-452a-9a37-f550292a9982"
      },
      "execution_count": 7,
      "outputs": [
        {
          "output_type": "stream",
          "name": "stdout",
          "text": [
            "Collecting azure-storage-blob\n",
            "  Downloading azure_storage_blob-12.20.0-py3-none-any.whl (392 kB)\n",
            "\u001b[2K     \u001b[90m━━━━━━━━━━━━━━━━━━━━━━━━━━━━━━━━━━━━━━━━\u001b[0m \u001b[32m392.2/392.2 kB\u001b[0m \u001b[31m6.4 MB/s\u001b[0m eta \u001b[36m0:00:00\u001b[0m\n",
            "\u001b[?25hCollecting azure-core>=1.28.0 (from azure-storage-blob)\n",
            "  Downloading azure_core-1.30.2-py3-none-any.whl (194 kB)\n",
            "\u001b[2K     \u001b[90m━━━━━━━━━━━━━━━━━━━━━━━━━━━━━━━━━━━━━━━━\u001b[0m \u001b[32m194.3/194.3 kB\u001b[0m \u001b[31m13.6 MB/s\u001b[0m eta \u001b[36m0:00:00\u001b[0m\n",
            "\u001b[?25hRequirement already satisfied: cryptography>=2.1.4 in /usr/local/lib/python3.10/dist-packages (from azure-storage-blob) (42.0.8)\n",
            "Requirement already satisfied: typing-extensions>=4.6.0 in /usr/local/lib/python3.10/dist-packages (from azure-storage-blob) (4.12.2)\n",
            "Collecting isodate>=0.6.1 (from azure-storage-blob)\n",
            "  Downloading isodate-0.6.1-py2.py3-none-any.whl (41 kB)\n",
            "\u001b[2K     \u001b[90m━━━━━━━━━━━━━━━━━━━━━━━━━━━━━━━━━━━━━━━━\u001b[0m \u001b[32m41.7/41.7 kB\u001b[0m \u001b[31m4.2 MB/s\u001b[0m eta \u001b[36m0:00:00\u001b[0m\n",
            "\u001b[?25hRequirement already satisfied: requests>=2.21.0 in /usr/local/lib/python3.10/dist-packages (from azure-core>=1.28.0->azure-storage-blob) (2.31.0)\n",
            "Requirement already satisfied: six>=1.11.0 in /usr/local/lib/python3.10/dist-packages (from azure-core>=1.28.0->azure-storage-blob) (1.16.0)\n",
            "Requirement already satisfied: cffi>=1.12 in /usr/local/lib/python3.10/dist-packages (from cryptography>=2.1.4->azure-storage-blob) (1.16.0)\n",
            "Requirement already satisfied: pycparser in /usr/local/lib/python3.10/dist-packages (from cffi>=1.12->cryptography>=2.1.4->azure-storage-blob) (2.22)\n",
            "Requirement already satisfied: charset-normalizer<4,>=2 in /usr/local/lib/python3.10/dist-packages (from requests>=2.21.0->azure-core>=1.28.0->azure-storage-blob) (3.3.2)\n",
            "Requirement already satisfied: idna<4,>=2.5 in /usr/local/lib/python3.10/dist-packages (from requests>=2.21.0->azure-core>=1.28.0->azure-storage-blob) (3.7)\n",
            "Requirement already satisfied: urllib3<3,>=1.21.1 in /usr/local/lib/python3.10/dist-packages (from requests>=2.21.0->azure-core>=1.28.0->azure-storage-blob) (2.0.7)\n",
            "Requirement already satisfied: certifi>=2017.4.17 in /usr/local/lib/python3.10/dist-packages (from requests>=2.21.0->azure-core>=1.28.0->azure-storage-blob) (2024.7.4)\n",
            "Installing collected packages: isodate, azure-core, azure-storage-blob\n",
            "Successfully installed azure-core-1.30.2 azure-storage-blob-12.20.0 isodate-0.6.1\n"
          ]
        }
      ]
    },
    {
      "cell_type": "code",
      "source": [
        "import requests\n",
        "import pandas as pd\n",
        "from datetime import datetime, timedelta\n",
        "from azure.storage.blob import BlobServiceClient, BlobClient, ContainerClient\n",
        "import json\n",
        "\n",
        "apiBase = 'https://query2.finance.yahoo.com'\n",
        "headers = {\n",
        "    \"User-Agent\": \"Mozilla/5.0 (Windows NT 6.1; Win64; x64)\"\n",
        "}\n",
        "\n",
        "def getCredentials(cookieUrl='https://fc.yahoo.com', crumbUrl=apiBase+'/v1/test/getcrumb'):\n",
        "    cookie = requests.get(cookieUrl).cookies\n",
        "    crumb = requests.get(url=crumbUrl, cookies=cookie, headers=headers).text\n",
        "    return {'cookie': cookie, 'crumb': crumb}\n",
        "\n",
        "def get_historical_data(symbol, start_date, end_date, credentials):\n",
        "    url = f\"{apiBase}/v8/finance/chart/{symbol}\"\n",
        "    params = {\n",
        "        'period1': int(start_date.timestamp()),\n",
        "        'period2': int(end_date.timestamp()),\n",
        "        'interval': '1d',\n",
        "        'events': 'history',\n",
        "        'crumb': credentials['crumb']\n",
        "    }\n",
        "    response = requests.get(url, params=params, cookies=credentials['cookie'], headers=headers)\n",
        "    data = response.json()\n",
        "\n",
        "    if 'chart' in data and 'result' in data['chart'] and data['chart']['result']:\n",
        "        result = data['chart']['result'][0]\n",
        "        dates = [datetime.fromtimestamp(ts) for ts in result['timestamp']]\n",
        "        prices = result['indicators']['quote'][0]\n",
        "        df = pd.DataFrame({\n",
        "            'Date': dates,\n",
        "            'Open': prices['open'],\n",
        "            'High': prices['high'],\n",
        "            'Low': prices['low'],\n",
        "            'Close': prices['close'],\n",
        "            'Volume': prices['volume']\n",
        "        })\n",
        "        return df\n",
        "    else:\n",
        "        print(f\"No data available for {symbol}\")\n",
        "        return None\n",
        "\n",
        "def upload_data_to_blob_storage(df, connection_string, container_name, blob_name):\n",
        "    # Convert DataFrame to JSON\n",
        "    json_data = df.to_json(orient='records', date_format='iso')\n",
        "\n",
        "    # Create BlobServiceClient\n",
        "    blob_service_client = BlobServiceClient.from_connection_string(connection_string)\n",
        "\n",
        "    # Get ContainerClient\n",
        "    container_client = blob_service_client.get_container_client(container_name)\n",
        "\n",
        "    # Check if container exists, create if not\n",
        "    if not container_client.exists():\n",
        "        container_client.create_container()\n",
        "\n",
        "    # Get BlobClient\n",
        "    blob_client = container_client.get_blob_client(blob_name)\n",
        "\n",
        "    # Upload JSON data\n",
        "    blob_client.upload_blob(json_data, overwrite=True)\n",
        "    print(f\"Data has been successfully uploaded to {blob_name} in container {container_name}.\")\n",
        "\n",
        "def main():\n",
        "    credentials = getCredentials()\n",
        "    symbol = 'BANKBARODA.NS'\n",
        "    end_date = datetime.now()\n",
        "    start_date = end_date - timedelta(days=365)\n",
        "\n",
        "    df = get_historical_data(symbol, start_date, end_date, credentials)\n",
        "\n",
        "    if df is not None:\n",
        "        # Replace with your actual Azure Blob Storage connection string\n",
        "        connection_string = 'DefaultEndpointsProtocol=https;AccountName=storge4bob;AccountKey=GR9If90YEYUFCnTgGkAbLLJiIdMdycFBdgWFuzyO1Z3mlK14EZDOgrtedsNWHvOKeu9J2yMDxD+AStDMgfGw==;EndpointSuffix=core.windows.net'\n",
        "        container_name = 'market-data'\n",
        "        blob_name = 'bankbaroda_historical_data.json'\n",
        "\n",
        "        upload_data_to_blob_storage(df, connection_string, container_name, blob_name)\n",
        "        print(f\"Data for {symbol} has been successfully uploaded to Azure Blob Storage.\")\n",
        "\n",
        "if __name__ == \"__main__\":\n",
        "    main()\n"
      ],
      "metadata": {
        "colab": {
          "base_uri": "https://localhost:8080/"
        },
        "id": "rx3UZN3BMB1W",
        "outputId": "db61ffb6-f14e-4f3e-9dca-f700032c2146"
      },
      "execution_count": 8,
      "outputs": [
        {
          "output_type": "stream",
          "name": "stdout",
          "text": [
            "Data has been successfully uploaded to bankbaroda_historical_data.json in container market-data.\n",
            "Data for BANKBARODA.NS has been successfully uploaded to Azure Blob Storage.\n"
          ]
        }
      ]
    }
  ]
}